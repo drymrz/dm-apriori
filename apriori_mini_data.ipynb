{
  "nbformat": 4,
  "nbformat_minor": 0,
  "metadata": {
    "colab": {
      "provenance": []
    },
    "kernelspec": {
      "name": "python3",
      "display_name": "Python 3"
    },
    "language_info": {
      "name": "python"
    }
  },
  "cells": [
    {
      "cell_type": "code",
      "execution_count": 3,
      "metadata": {
        "colab": {
          "base_uri": "https://localhost:8080/"
        },
        "id": "fYbHgWb-ls2H",
        "outputId": "ca0d0040-072a-4c46-ac9d-24be58bea958"
      },
      "outputs": [
        {
          "output_type": "stream",
          "name": "stdout",
          "text": [
            "✅ Sampling selesai! File: sampled_groceries_2014_custom.csv\n",
            "Jumlah transaksi: 120\n",
            "Jumlah baris (item): 351\n",
            "Distribusi jumlah item per transaksi:\n",
            "n_items\n",
            "2    58\n",
            "3    22\n",
            "4    34\n",
            "5     3\n",
            "6     3\n",
            "Name: count, dtype: int64\n"
          ]
        }
      ],
      "source": [
        "import pandas as pd\n",
        "\n",
        "# 1. Load data\n",
        "df = pd.read_csv('Groceries data.csv')\n",
        "df['Date'] = pd.to_datetime(df['Date'])\n",
        "\n",
        "# 2. Filter tahun 2014\n",
        "df_2014 = df[df['Date'].dt.year == 2014].copy()\n",
        "df_2014['Transaction_ID'] = df_2014['Member_number'].astype(str) + '_' + df_2014['Date'].dt.strftime('%Y-%m-%d')\n",
        "\n",
        "# 3. Group jadi basket\n",
        "basket_2014 = df_2014.groupby(['Transaction_ID', 'Date']).agg({'itemDescription': list}).reset_index()\n",
        "basket_2014['n_items'] = basket_2014['itemDescription'].apply(len)\n",
        "basket_2014['month'] = basket_2014['Date'].dt.month\n",
        "\n",
        "# 4. Target distribusi global (total 120 transaksi)\n",
        "target_dist = {2: 24, 3: 20, 4: 31, 5: 12}\n",
        "target_total = 10  # per bulan\n",
        "\n",
        "sampled_baskets = []\n",
        "\n",
        "for month in range(1, 13):\n",
        "    month_baskets = basket_2014[basket_2014['month'] == month]\n",
        "    sampled = []\n",
        "    used_ids = set()\n",
        "    # 2 item\n",
        "    group2 = month_baskets[month_baskets['n_items'] == 2]\n",
        "    n2 = min(target_dist[2] // 12, len(group2))  # rata-rata per bulan\n",
        "    if n2 > 0:\n",
        "        s2 = group2.sample(n=n2, random_state=month*10)\n",
        "        sampled.append(s2)\n",
        "        used_ids.update(s2['Transaction_ID'])\n",
        "    # 3 item\n",
        "    group3 = month_baskets[month_baskets['n_items'] == 3]\n",
        "    n3 = min(target_dist[3] // 12, len(group3))\n",
        "    if n3 > 0:\n",
        "        s3 = group3.sample(n=n3, random_state=month*20)\n",
        "        sampled.append(s3)\n",
        "        used_ids.update(s3['Transaction_ID'])\n",
        "    # 4 item\n",
        "    group4 = month_baskets[month_baskets['n_items'] == 4]\n",
        "    n4 = min(target_dist[4] // 12 + (1 if month <= target_dist[4] % 12 else 0), len(group4))\n",
        "    if n4 > 0:\n",
        "        s4 = group4.sample(n=n4, random_state=month*30)\n",
        "        sampled.append(s4)\n",
        "        used_ids.update(s4['Transaction_ID'])\n",
        "    # 5 item\n",
        "    group5 = month_baskets[month_baskets['n_items'] >= 5]\n",
        "    n5 = min(target_dist[5] // 12 + (1 if month <= target_dist[5] % 12 else 0), len(group5))\n",
        "    if n5 > 0:\n",
        "        s5 = group5.sample(n=n5, random_state=month*40)\n",
        "        sampled.append(s5)\n",
        "        used_ids.update(s5['Transaction_ID'])\n",
        "    # Gabung\n",
        "    combined = pd.concat(sampled) if sampled else pd.DataFrame()\n",
        "    # Jika masih kurang dari 10, isi random dari yang belum terambil\n",
        "    sisa = target_total - len(combined)\n",
        "    if sisa > 0:\n",
        "        remaining = month_baskets[~month_baskets['Transaction_ID'].isin(used_ids)]\n",
        "        if not remaining.empty:\n",
        "            combined = pd.concat([combined, remaining.sample(min(sisa, len(remaining)), random_state=month*99)])\n",
        "    # Pastikan hanya 10\n",
        "    combined = combined.sample(n=min(target_total, len(combined)), random_state=month+123)\n",
        "    sampled_baskets.append(combined)\n",
        "\n",
        "# 5. Gabungkan semua bulan\n",
        "final_sample = pd.concat(sampled_baskets, ignore_index=True)\n",
        "\n",
        "# 6. Format long\n",
        "rows = []\n",
        "for _, row in final_sample.iterrows():\n",
        "    for item in row['itemDescription']:\n",
        "        rows.append({\n",
        "            'Transaction_ID': row['Transaction_ID'],\n",
        "            'Date': row['Date'],\n",
        "            'itemDescription': item\n",
        "        })\n",
        "sampled_long = pd.DataFrame(rows)\n",
        "\n",
        "# 7. Simpan ke CSV\n",
        "sampled_long.to_csv('sampled_groceries_2014_custom.csv', index=False)\n",
        "print('✅ Sampling selesai! File: sampled_groceries_2014_custom.csv')\n",
        "print('Jumlah transaksi:', final_sample.shape[0])\n",
        "print('Jumlah baris (item):', sampled_long.shape[0])\n",
        "print('Distribusi jumlah item per transaksi:')\n",
        "print(final_sample['n_items'].value_counts().sort_index())"
      ]
    },
    {
      "cell_type": "code",
      "source": [
        "# 1. Load hasil sampling (long format)\n",
        "df = pd.read_csv('sampled_groceries_2014_custom.csv')\n",
        "\n",
        "# 2. Grouping: satu baris per transaksi, itemDescription jadi list\n",
        "basket_ready = df.groupby(['Transaction_ID', 'Date'])['itemDescription'].apply(list).reset_index()\n",
        "\n",
        "# 3. (Opsional) Lihat contoh hasil\n",
        "print(basket_ready.head())\n",
        "\n",
        "# 4. Simpan ke CSV baru (format: Transaction_ID, Date, Items)\n",
        "basket_ready.to_csv('basket_ready_for_apriori.csv', index=False)\n",
        "print('✅ Data siap untuk Apriori! File: basket_ready_for_apriori.csv')"
      ],
      "metadata": {
        "colab": {
          "base_uri": "https://localhost:8080/"
        },
        "id": "UZ2H7EoRrcgk",
        "outputId": "1cdbd8a5-29a3-4070-a328-3e0ebd39bccc"
      },
      "execution_count": 4,
      "outputs": [
        {
          "output_type": "stream",
          "name": "stdout",
          "text": [
            "    Transaction_ID        Date                             itemDescription\n",
            "0  1020_2014-07-19  2014-07-19  [frozen meals, butter, newspapers, yogurt]\n",
            "1  1025_2014-06-02  2014-06-02                     [coffee, shopping bags]\n",
            "2  1035_2014-08-15  2014-08-15  [pip fruit, white wine, white bread, salt]\n",
            "3  1108_2014-06-25  2014-06-25  [frozen potato products, specialty cheese]\n",
            "4  1190_2014-05-18  2014-05-18               [pip fruit, rolls/buns, soda]\n",
            "✅ Data siap untuk Apriori! File: basket_ready_for_apriori.csv\n"
          ]
        }
      ]
    },
    {
      "cell_type": "code",
      "source": [
        "from mlxtend.preprocessing import TransactionEncoder\n",
        "from mlxtend.frequent_patterns import apriori, association_rules"
      ],
      "metadata": {
        "id": "qxO5Ks7ttAot"
      },
      "execution_count": 33,
      "outputs": []
    },
    {
      "cell_type": "code",
      "source": [
        "# 1. Load data hasil sampling\n",
        "df = pd.read_csv('sampled_groceries_2014_custom.csv')\n",
        "df['Date'] = pd.to_datetime(df['Date'])\n",
        "df['month'] = df['Date'].dt.month"
      ],
      "metadata": {
        "id": "4pdKwGpotEuR"
      },
      "execution_count": 34,
      "outputs": []
    },
    {
      "cell_type": "code",
      "source": [
        "# 2. Group jadi basket (list per transaksi)\n",
        "basket = df.groupby('Transaction_ID')['itemDescription'].apply(list).reset_index()"
      ],
      "metadata": {
        "id": "glxykj3-tItD"
      },
      "execution_count": 35,
      "outputs": []
    },
    {
      "cell_type": "code",
      "source": [
        "# 3. APRIORI OVERALL (SETAHUN)\n",
        "transactions = basket['itemDescription'].tolist()\n",
        "te = TransactionEncoder()\n",
        "te_array = te.fit(transactions).transform(transactions)\n",
        "df_encoded = pd.DataFrame(te_array, columns=te.columns_)"
      ],
      "metadata": {
        "id": "Z6x89108tKQY"
      },
      "execution_count": 36,
      "outputs": []
    },
    {
      "cell_type": "code",
      "source": [
        "# Apriori\n",
        "min_support = 0.01\n",
        "min_confidence = 0.05\n",
        "\n",
        "frequent_itemsets = apriori(df_encoded, min_support=min_support, use_colnames=True)\n",
        "rules = association_rules(frequent_itemsets, metric=\"confidence\", min_threshold=min_confidence)"
      ],
      "metadata": {
        "id": "nNK2Ze1MtNEq"
      },
      "execution_count": 44,
      "outputs": []
    },
    {
      "cell_type": "code",
      "source": [
        "print(\"=== TOP 10 BARANG PALING SERING DIBELI BERSAMA (SETAHUN) ===\")\n",
        "if len(rules) == 0:\n",
        "    print(\"Tidak ada rules ditemukan. Coba cek data atau turunkan threshold lagi.\")\n",
        "else:\n",
        "    top_rules = rules.sort_values('lift', ascending=False).head(10)\n",
        "    for idx, rule in top_rules.iterrows():\n",
        "        ant = ', '.join(list(rule['antecedents']))\n",
        "        cons = ', '.join(list(rule['consequents']))\n",
        "        print(f\"• {ant} + {cons} | Support: {rule['support']:.2f}, Confidence: {rule['confidence']:.2f}, Lift: {rule['lift']:.2f}\")"
      ],
      "metadata": {
        "colab": {
          "base_uri": "https://localhost:8080/"
        },
        "id": "8GfiSCl9tPP2",
        "outputId": "de8cf767-9e4b-4bb5-ce4b-1fcfd34af226"
      },
      "execution_count": 45,
      "outputs": [
        {
          "output_type": "stream",
          "name": "stdout",
          "text": [
            "=== TOP 10 BARANG PALING SERING DIBELI BERSAMA (SETAHUN) ===\n",
            "• chocolate marshmallow + cream cheese  | Support: 0.02, Confidence: 1.00, Lift: 40.00\n",
            "• cream cheese  + chocolate marshmallow | Support: 0.02, Confidence: 0.67, Lift: 40.00\n",
            "• white bread + bottled beer | Support: 0.02, Confidence: 0.50, Lift: 10.00\n",
            "• bottled beer + white bread | Support: 0.02, Confidence: 0.33, Lift: 10.00\n",
            "• flour + chocolate | Support: 0.02, Confidence: 0.25, Lift: 10.00\n",
            "• chocolate + flour | Support: 0.02, Confidence: 0.67, Lift: 10.00\n",
            "• domestic eggs + canned beer | Support: 0.02, Confidence: 0.33, Lift: 8.00\n",
            "• canned beer + domestic eggs | Support: 0.02, Confidence: 0.40, Lift: 8.00\n",
            "• margarine + domestic eggs | Support: 0.02, Confidence: 0.40, Lift: 8.00\n",
            "• domestic eggs + margarine | Support: 0.02, Confidence: 0.33, Lift: 8.00\n"
          ]
        }
      ]
    },
    {
      "cell_type": "code",
      "source": [
        "# 4. APRIORI PER BULAN\n",
        "print(\"\\n=== TOP 3 BARANG PALING SERING DIBELI BERSAMA PER BULAN ===\")\n",
        "month_names = {1:'Jan', 2:'Feb', 3:'Mar', 4:'Apr', 5:'May', 6:'Jun', 7:'Jul', 8:'Aug', 9:'Sep', 10:'Oct', 11:'Nov', 12:'Dec'}\n",
        "for month in range(1, 13):\n",
        "    month_basket = basket[basket['Transaction_ID'].isin(\n",
        "        df[df['month'] == month]['Transaction_ID'].unique()\n",
        "    )]\n",
        "    if len(month_basket) < 2:\n",
        "        continue\n",
        "    transactions_month = month_basket['itemDescription'].tolist()\n",
        "    te_month = TransactionEncoder()\n",
        "    te_array_month = te_month.fit(transactions_month).transform(transactions_month)\n",
        "    df_encoded_month = pd.DataFrame(te_array_month, columns=te_month.columns_)\n",
        "    min_support_month = max(0.01, 1/len(transactions_month))\n",
        "    freq_itemsets_month = apriori(df_encoded_month, min_support=min_support_month, use_colnames=True)\n",
        "    rules_month = association_rules(freq_itemsets_month, metric=\"confidence\", min_threshold=0.05)\n",
        "    # Tidak filter lift agar rules lebih banyak\n",
        "    if len(rules_month) == 0:\n",
        "        continue\n",
        "    print(f\"\\n{month_names[month]}:\")\n",
        "    for idx, rule in rules_month.sort_values('lift', ascending=False).head(3).iterrows():\n",
        "        ant = ', '.join(list(rule['antecedents']))\n",
        "        cons = ', '.join(list(rule['consequents']))\n",
        "        print(f\"  • {ant} + {cons} | Support: {rule['support']:.2f}, Confidence: {rule['confidence']:.2f}, Lift: {rule['lift']:.2f}\")"
      ],
      "metadata": {
        "colab": {
          "base_uri": "https://localhost:8080/"
        },
        "id": "zwVv_7mItb83",
        "outputId": "849dc251-b343-478f-b8c3-a0a910f9c19a"
      },
      "execution_count": 46,
      "outputs": [
        {
          "output_type": "stream",
          "name": "stdout",
          "text": [
            "\n",
            "=== TOP 3 BARANG PALING SERING DIBELI BERSAMA PER BULAN ===\n",
            "\n",
            "Jan:\n",
            "  • yogurt, chocolate marshmallow + nut snack, cream cheese , curd, female sanitary products | Support: 0.10, Confidence: 1.00, Lift: 10.00\n",
            "  • yogurt, female sanitary products + nut snack, cream cheese , curd, chocolate marshmallow | Support: 0.10, Confidence: 1.00, Lift: 10.00\n",
            "  • yogurt, nut snack + cream cheese , curd, female sanitary products, chocolate marshmallow | Support: 0.10, Confidence: 1.00, Lift: 10.00\n",
            "\n",
            "Feb:\n",
            "  • long life bakery product, UHT-milk + whole milk, chocolate, sausage, flour | Support: 0.10, Confidence: 1.00, Lift: 10.00\n",
            "  • long life bakery product, flour + whole milk, chocolate, sausage, UHT-milk | Support: 0.10, Confidence: 1.00, Lift: 10.00\n",
            "  • long life bakery product, sausage + whole milk, chocolate, flour, UHT-milk | Support: 0.10, Confidence: 1.00, Lift: 10.00\n",
            "\n",
            "Mar:\n",
            "  • bottled beer, frozen dessert + rice, berries, rolls/buns, white bread | Support: 0.10, Confidence: 1.00, Lift: 10.00\n",
            "  • rice, frozen dessert + bottled beer, berries, rolls/buns, white bread | Support: 0.10, Confidence: 1.00, Lift: 10.00\n",
            "  • rolls/buns, frozen dessert + rice, bottled beer, berries, white bread | Support: 0.10, Confidence: 1.00, Lift: 10.00\n",
            "\n",
            "Apr:\n",
            "  • whole milk, butter + fruit/vegetable juice | Support: 0.10, Confidence: 1.00, Lift: 10.00\n",
            "  • tropical fruit + popcorn | Support: 0.10, Confidence: 1.00, Lift: 10.00\n",
            "  • fruit/vegetable juice + soda, butter | Support: 0.10, Confidence: 1.00, Lift: 10.00\n",
            "\n",
            "May:\n",
            "  • candles + UHT-milk | Support: 0.10, Confidence: 1.00, Lift: 10.00\n",
            "  • UHT-milk + candles | Support: 0.10, Confidence: 1.00, Lift: 10.00\n",
            "  • salty snack + UHT-milk | Support: 0.10, Confidence: 1.00, Lift: 10.00\n",
            "\n",
            "Jun:\n",
            "  • chocolate + flour | Support: 0.10, Confidence: 1.00, Lift: 10.00\n",
            "  • flour + chocolate | Support: 0.10, Confidence: 1.00, Lift: 10.00\n",
            "  • pip fruit + yogurt | Support: 0.10, Confidence: 1.00, Lift: 10.00\n",
            "\n",
            "Jul:\n",
            "  • brown bread + yogurt, citrus fruit, beef, sugar | Support: 0.10, Confidence: 1.00, Lift: 10.00\n",
            "  • beef + brown bread | Support: 0.10, Confidence: 1.00, Lift: 10.00\n",
            "  • brown bread + beef | Support: 0.10, Confidence: 1.00, Lift: 10.00\n",
            "\n",
            "Aug:\n",
            "  • kitchen utensil + bottled water | Support: 0.10, Confidence: 1.00, Lift: 10.00\n",
            "  • bottled water + kitchen utensil | Support: 0.10, Confidence: 1.00, Lift: 10.00\n",
            "  • butter milk + cat food | Support: 0.10, Confidence: 1.00, Lift: 10.00\n",
            "\n",
            "Sep:\n",
            "  • yogurt + bathroom cleaner | Support: 0.10, Confidence: 1.00, Lift: 10.00\n",
            "  • bathroom cleaner + yogurt | Support: 0.10, Confidence: 1.00, Lift: 10.00\n",
            "  • pip fruit + butter | Support: 0.10, Confidence: 1.00, Lift: 10.00\n",
            "\n",
            "Oct:\n",
            "  • cat food + mustard | Support: 0.10, Confidence: 1.00, Lift: 10.00\n",
            "  • mustard + cat food | Support: 0.10, Confidence: 1.00, Lift: 10.00\n",
            "  • candles + instant coffee | Support: 0.10, Confidence: 1.00, Lift: 10.00\n",
            "\n",
            "Nov:\n",
            "  • bottled beer + white bread | Support: 0.10, Confidence: 1.00, Lift: 10.00\n",
            "  • white bread + bottled beer | Support: 0.10, Confidence: 1.00, Lift: 10.00\n",
            "  • domestic eggs + candles | Support: 0.10, Confidence: 1.00, Lift: 10.00\n",
            "\n",
            "Dec:\n",
            "  • chewing gum + butter | Support: 0.10, Confidence: 1.00, Lift: 10.00\n",
            "  • butter + chewing gum | Support: 0.10, Confidence: 1.00, Lift: 10.00\n",
            "  • butter + coffee | Support: 0.10, Confidence: 1.00, Lift: 10.00\n"
          ]
        }
      ]
    },
    {
      "cell_type": "code",
      "source": [
        "print(\"\\n=== REKOMENDASI BUNDLING PRODUK ===\")\n",
        "if len(rules) > 0:\n",
        "    for idx, rule in top_rules.iterrows():\n",
        "        ant = ', '.join(list(rule['antecedents']))\n",
        "        cons = ', '.join(list(rule['consequents']))\n",
        "        print(f\"Bundling: {ant} + {cons} (Lift: {rule['lift']:.2f}, Confidence: {rule['confidence']:.1%})\")\n",
        "else:\n",
        "    print(\"Tidak ada rekomendasi bundling yang bisa ditampilkan.\")"
      ],
      "metadata": {
        "colab": {
          "base_uri": "https://localhost:8080/"
        },
        "id": "wQRbcTV-tn6y",
        "outputId": "c3d368c4-4284-416e-9b90-1874b6b1eb06"
      },
      "execution_count": 47,
      "outputs": [
        {
          "output_type": "stream",
          "name": "stdout",
          "text": [
            "\n",
            "=== REKOMENDASI BUNDLING PRODUK ===\n",
            "Bundling: chocolate marshmallow + cream cheese  (Lift: 40.00, Confidence: 100.0%)\n",
            "Bundling: cream cheese  + chocolate marshmallow (Lift: 40.00, Confidence: 66.7%)\n",
            "Bundling: white bread + bottled beer (Lift: 10.00, Confidence: 50.0%)\n",
            "Bundling: bottled beer + white bread (Lift: 10.00, Confidence: 33.3%)\n",
            "Bundling: flour + chocolate (Lift: 10.00, Confidence: 25.0%)\n",
            "Bundling: chocolate + flour (Lift: 10.00, Confidence: 66.7%)\n",
            "Bundling: domestic eggs + canned beer (Lift: 8.00, Confidence: 33.3%)\n",
            "Bundling: canned beer + domestic eggs (Lift: 8.00, Confidence: 40.0%)\n",
            "Bundling: margarine + domestic eggs (Lift: 8.00, Confidence: 40.0%)\n",
            "Bundling: domestic eggs + margarine (Lift: 8.00, Confidence: 33.3%)\n"
          ]
        }
      ]
    }
  ]
}