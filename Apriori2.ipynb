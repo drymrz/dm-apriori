{
  "nbformat": 4,
  "nbformat_minor": 0,
  "metadata": {
    "colab": {
      "provenance": []
    },
    "kernelspec": {
      "name": "python3",
      "display_name": "Python 3"
    },
    "language_info": {
      "name": "python"
    }
  },
  "cells": [
    {
      "cell_type": "code",
      "execution_count": 1,
      "metadata": {
        "colab": {
          "base_uri": "https://localhost:8080/"
        },
        "id": "PHj2XgryAl0K",
        "outputId": "5c15ef14-72ee-48c2-a0bb-b8776004094a"
      },
      "outputs": [
        {
          "output_type": "stream",
          "name": "stdout",
          "text": [
            "Requirement already satisfied: mlxtend in /usr/local/lib/python3.11/dist-packages (0.23.4)\n",
            "Requirement already satisfied: scipy>=1.2.1 in /usr/local/lib/python3.11/dist-packages (from mlxtend) (1.13.1)\n",
            "Requirement already satisfied: numpy>=1.16.2 in /usr/local/lib/python3.11/dist-packages (from mlxtend) (1.26.4)\n",
            "Requirement already satisfied: pandas>=0.24.2 in /usr/local/lib/python3.11/dist-packages (from mlxtend) (2.2.2)\n",
            "Requirement already satisfied: scikit-learn>=1.3.1 in /usr/local/lib/python3.11/dist-packages (from mlxtend) (1.6.1)\n",
            "Requirement already satisfied: matplotlib>=3.0.0 in /usr/local/lib/python3.11/dist-packages (from mlxtend) (3.10.0)\n",
            "Requirement already satisfied: joblib>=0.13.2 in /usr/local/lib/python3.11/dist-packages (from mlxtend) (1.4.2)\n",
            "Requirement already satisfied: contourpy>=1.0.1 in /usr/local/lib/python3.11/dist-packages (from matplotlib>=3.0.0->mlxtend) (1.3.1)\n",
            "Requirement already satisfied: cycler>=0.10 in /usr/local/lib/python3.11/dist-packages (from matplotlib>=3.0.0->mlxtend) (0.12.1)\n",
            "Requirement already satisfied: fonttools>=4.22.0 in /usr/local/lib/python3.11/dist-packages (from matplotlib>=3.0.0->mlxtend) (4.56.0)\n",
            "Requirement already satisfied: kiwisolver>=1.3.1 in /usr/local/lib/python3.11/dist-packages (from matplotlib>=3.0.0->mlxtend) (1.4.8)\n",
            "Requirement already satisfied: packaging>=20.0 in /usr/local/lib/python3.11/dist-packages (from matplotlib>=3.0.0->mlxtend) (24.2)\n",
            "Requirement already satisfied: pillow>=8 in /usr/local/lib/python3.11/dist-packages (from matplotlib>=3.0.0->mlxtend) (11.1.0)\n",
            "Requirement already satisfied: pyparsing>=2.3.1 in /usr/local/lib/python3.11/dist-packages (from matplotlib>=3.0.0->mlxtend) (3.2.1)\n",
            "Requirement already satisfied: python-dateutil>=2.7 in /usr/local/lib/python3.11/dist-packages (from matplotlib>=3.0.0->mlxtend) (2.8.2)\n",
            "Requirement already satisfied: pytz>=2020.1 in /usr/local/lib/python3.11/dist-packages (from pandas>=0.24.2->mlxtend) (2025.1)\n",
            "Requirement already satisfied: tzdata>=2022.7 in /usr/local/lib/python3.11/dist-packages (from pandas>=0.24.2->mlxtend) (2025.1)\n",
            "Requirement already satisfied: threadpoolctl>=3.1.0 in /usr/local/lib/python3.11/dist-packages (from scikit-learn>=1.3.1->mlxtend) (3.5.0)\n",
            "Requirement already satisfied: six>=1.5 in /usr/local/lib/python3.11/dist-packages (from python-dateutil>=2.7->matplotlib>=3.0.0->mlxtend) (1.17.0)\n"
          ]
        }
      ],
      "source": [
        "!pip install mlxtend"
      ]
    },
    {
      "cell_type": "code",
      "source": [
        "import pandas as pd\n",
        "import numpy as np\n",
        "import matplotlib.pyplot as plt\n",
        "import seaborn as sns\n",
        "from datetime import datetime\n",
        "import warnings\n",
        "warnings.filterwarnings('ignore')"
      ],
      "metadata": {
        "id": "l4dGmWN3Fbjo"
      },
      "execution_count": 2,
      "outputs": []
    },
    {
      "cell_type": "code",
      "source": [
        "from mlxtend.frequent_patterns import apriori, association_rules\n",
        "from mlxtend.preprocessing import TransactionEncoder"
      ],
      "metadata": {
        "id": "xH-cCp3lFkw9"
      },
      "execution_count": 3,
      "outputs": []
    },
    {
      "cell_type": "code",
      "source": [
        "pd.set_option('display.max_columns', None)\n",
        "pd.set_option('display.width', 1000)\n",
        "plt.style.use('seaborn-v0_8')"
      ],
      "metadata": {
        "id": "JXla0ix-Fm-6"
      },
      "execution_count": 4,
      "outputs": []
    },
    {
      "cell_type": "code",
      "source": [
        "print(\"📊 Starting Apriori Analysis for Groceries Dataset\")\n",
        "print(\"=\" * 50)"
      ],
      "metadata": {
        "colab": {
          "base_uri": "https://localhost:8080/"
        },
        "id": "ZagLArzPFn95",
        "outputId": "72883562-be07-44d9-b8e4-c38fa0cb7605"
      },
      "execution_count": 5,
      "outputs": [
        {
          "output_type": "stream",
          "name": "stdout",
          "text": [
            "📊 Starting Apriori Analysis for Groceries Dataset\n",
            "==================================================\n"
          ]
        }
      ]
    },
    {
      "cell_type": "markdown",
      "source": [
        "# STEP 1: LOAD & EXPLORE DATASET"
      ],
      "metadata": {
        "id": "8aMNYBiuF5Si"
      }
    },
    {
      "cell_type": "code",
      "source": [
        "df = pd.read_csv('Groceries data.csv')"
      ],
      "metadata": {
        "id": "Pi65e2ATFpyB"
      },
      "execution_count": 6,
      "outputs": []
    },
    {
      "cell_type": "code",
      "source": [
        "print(f\"Dataset shape: {df.shape}\")\n",
        "print(f\"Columns: {list(df.columns)}\")\n",
        "print(\"\\nFirst 5 rows:\")\n",
        "print(df.head())\n",
        "\n",
        "print(\"\\nData types:\")\n",
        "print(df.dtypes)\n",
        "print(\"\\nDataset info:\")\n",
        "df.info()"
      ],
      "metadata": {
        "colab": {
          "base_uri": "https://localhost:8080/"
        },
        "id": "n82vgbvPFwzz",
        "outputId": "362814d8-fb77-4a35-c495-75a42a00601f"
      },
      "execution_count": 7,
      "outputs": [
        {
          "output_type": "stream",
          "name": "stdout",
          "text": [
            "Dataset shape: (38765, 7)\n",
            "Columns: ['Member_number', 'Date', 'itemDescription', 'year', 'month', 'day', 'day_of_week']\n",
            "\n",
            "First 5 rows:\n",
            "   Member_number        Date   itemDescription  year  month  day  day_of_week\n",
            "0           1808  2015-07-21    tropical fruit  2015      7   21            1\n",
            "1           2552  2015-05-01        whole milk  2015      5    1            4\n",
            "2           2300  2015-09-19         pip fruit  2015      9   19            5\n",
            "3           1187  2015-12-12  other vegetables  2015     12   12            5\n",
            "4           3037  2015-01-02        whole milk  2015      1    2            4\n",
            "\n",
            "Data types:\n",
            "Member_number       int64\n",
            "Date               object\n",
            "itemDescription    object\n",
            "year                int64\n",
            "month               int64\n",
            "day                 int64\n",
            "day_of_week         int64\n",
            "dtype: object\n",
            "\n",
            "Dataset info:\n",
            "<class 'pandas.core.frame.DataFrame'>\n",
            "RangeIndex: 38765 entries, 0 to 38764\n",
            "Data columns (total 7 columns):\n",
            " #   Column           Non-Null Count  Dtype \n",
            "---  ------           --------------  ----- \n",
            " 0   Member_number    38765 non-null  int64 \n",
            " 1   Date             38765 non-null  object\n",
            " 2   itemDescription  38765 non-null  object\n",
            " 3   year             38765 non-null  int64 \n",
            " 4   month            38765 non-null  int64 \n",
            " 5   day              38765 non-null  int64 \n",
            " 6   day_of_week      38765 non-null  int64 \n",
            "dtypes: int64(5), object(2)\n",
            "memory usage: 2.1+ MB\n"
          ]
        }
      ]
    },
    {
      "cell_type": "markdown",
      "source": [
        "# STEP 2: DATA EXPLORATION"
      ],
      "metadata": {
        "id": "L6UMs2RWGDGq"
      }
    },
    {
      "cell_type": "code",
      "source": [
        "print(\"\\n🔍 DATA EXPLORATION\")\n",
        "print(\"=\" * 30)"
      ],
      "metadata": {
        "colab": {
          "base_uri": "https://localhost:8080/"
        },
        "id": "eECzL0dyF0JD",
        "outputId": "40f34215-98e1-49c2-bcd7-65f1e54dc5d9"
      },
      "execution_count": 8,
      "outputs": [
        {
          "output_type": "stream",
          "name": "stdout",
          "text": [
            "\n",
            "🔍 DATA EXPLORATION\n",
            "==============================\n"
          ]
        }
      ]
    },
    {
      "cell_type": "code",
      "source": [
        "print(\"Missing values per column:\")\n",
        "print(df.isnull().sum())"
      ],
      "metadata": {
        "colab": {
          "base_uri": "https://localhost:8080/"
        },
        "id": "Swj3IZpGGD4p",
        "outputId": "dabe6362-cbe7-4692-e3c3-2f8908c16aa7"
      },
      "execution_count": 9,
      "outputs": [
        {
          "output_type": "stream",
          "name": "stdout",
          "text": [
            "Missing values per column:\n",
            "Member_number      0\n",
            "Date               0\n",
            "itemDescription    0\n",
            "year               0\n",
            "month              0\n",
            "day                0\n",
            "day_of_week        0\n",
            "dtype: int64\n"
          ]
        }
      ]
    },
    {
      "cell_type": "code",
      "source": [
        "print(f\"\\nUnique Members: {df['Member_number'].nunique()}\")\n",
        "print(f\"Unique Items: {df['itemDescription'].nunique()}\")\n",
        "print(f\"Date range: {df['Date'].min()} to {df['Date'].max()}\")\n",
        "print(f\"Total records: {len(df)}\")"
      ],
      "metadata": {
        "colab": {
          "base_uri": "https://localhost:8080/"
        },
        "id": "Dc3mjltdGGtW",
        "outputId": "33a4a2ea-2112-4f89-dca1-b731341426a1"
      },
      "execution_count": 10,
      "outputs": [
        {
          "output_type": "stream",
          "name": "stdout",
          "text": [
            "\n",
            "Unique Members: 3898\n",
            "Unique Items: 167\n",
            "Date range: 2014-01-01 to 2015-12-30\n",
            "Total records: 38765\n"
          ]
        }
      ]
    },
    {
      "cell_type": "code",
      "source": [
        "print(\"\\n📈 Top 15 Most Popular Items:\")\n",
        "item_counts = df['itemDescription'].value_counts().head(15)\n",
        "print(item_counts)"
      ],
      "metadata": {
        "colab": {
          "base_uri": "https://localhost:8080/"
        },
        "id": "4h7IoM9iGIgN",
        "outputId": "9ccb9607-daf1-43fc-bbf0-60e60f169894"
      },
      "execution_count": 11,
      "outputs": [
        {
          "output_type": "stream",
          "name": "stdout",
          "text": [
            "\n",
            "📈 Top 15 Most Popular Items:\n",
            "itemDescription\n",
            "whole milk          2502\n",
            "other vegetables    1898\n",
            "rolls/buns          1716\n",
            "soda                1514\n",
            "yogurt              1334\n",
            "root vegetables     1071\n",
            "tropical fruit      1032\n",
            "bottled water        933\n",
            "sausage              924\n",
            "citrus fruit         812\n",
            "pastry               785\n",
            "pip fruit            744\n",
            "shopping bags        731\n",
            "canned beer          717\n",
            "bottled beer         687\n",
            "Name: count, dtype: int64\n"
          ]
        }
      ]
    },
    {
      "cell_type": "code",
      "source": [
        "item_percentages = (item_counts / len(df) * 100).round(2)\n",
        "print(\"\\nAs percentages of total purchases:\")\n",
        "print(item_percentages)"
      ],
      "metadata": {
        "colab": {
          "base_uri": "https://localhost:8080/"
        },
        "id": "Bga5x8B0GMUg",
        "outputId": "ca66160b-b7ec-43e3-8480-074b2edd0aa1"
      },
      "execution_count": 12,
      "outputs": [
        {
          "output_type": "stream",
          "name": "stdout",
          "text": [
            "\n",
            "As percentages of total purchases:\n",
            "itemDescription\n",
            "whole milk          6.45\n",
            "other vegetables    4.90\n",
            "rolls/buns          4.43\n",
            "soda                3.91\n",
            "yogurt              3.44\n",
            "root vegetables     2.76\n",
            "tropical fruit      2.66\n",
            "bottled water       2.41\n",
            "sausage             2.38\n",
            "citrus fruit        2.09\n",
            "pastry              2.03\n",
            "pip fruit           1.92\n",
            "shopping bags       1.89\n",
            "canned beer         1.85\n",
            "bottled beer        1.77\n",
            "Name: count, dtype: float64\n"
          ]
        }
      ]
    },
    {
      "cell_type": "code",
      "source": [
        "plt.figure(figsize=(14, 8))\n",
        "item_counts.head(10).plot(kind='bar', color='skyblue', edgecolor='black')\n",
        "plt.title('Top 10 Most Popular Items', fontsize=16, fontweight='bold')\n",
        "plt.xlabel('Items', fontsize=12)\n",
        "plt.ylabel('Frequency', fontsize=12)\n",
        "plt.xticks(rotation=45, ha='right')\n",
        "plt.grid(True, alpha=0.3)\n",
        "plt.tight_layout()\n",
        "plt.show()"
      ],
      "metadata": {
        "colab": {
          "base_uri": "https://localhost:8080/",
          "height": 594
        },
        "id": "am12CxoUGP0u",
        "outputId": "8e39673e-4cd9-4160-b24a-357e26f15864"
      },
      "execution_count": 13,
      "outputs": [
        {
          "output_type": "display_data",
          "data": {
            "text/plain": [
              "<Figure size 1400x800 with 1 Axes>"
            ],
            "image/png": "[encoded data removed]"
          },
          "metadata": {}
        }
      ]
    },
    {
      "cell_type": "markdown",
      "source": [
        "# STEP 3: TEMPORAL ANALYSIS"
      ],
      "metadata": {
        "id": "meabOZh9GWlQ"
      }
    },
    {
      "cell_type": "code",
      "source": [
        "df['Date'] = pd.to_datetime(df['Date'])"
      ],
      "metadata": {
        "id": "I_KP-LqgGXnq"
      },
      "execution_count": 14,
      "outputs": []
    },
    {
      "cell_type": "code",
      "source": [
        "print(\"\\n📅 TEMPORAL ANALYSIS\")\n",
        "print(\"=\" * 20)"
      ],
      "metadata": {
        "colab": {
          "base_uri": "https://localhost:8080/"
        },
        "id": "3ib8dAbyGZ_N",
        "outputId": "2b616473-941e-46a4-d684-7de14b46b167"
      },
      "execution_count": 15,
      "outputs": [
        {
          "output_type": "stream",
          "name": "stdout",
          "text": [
            "\n",
            "📅 TEMPORAL ANALYSIS\n",
            "====================\n"
          ]
        }
      ]
    },
    {
      "cell_type": "code",
      "source": [
        "yearly_counts = df['year'].value_counts().sort_index()\n",
        "print(\"Purchases per year:\")\n",
        "print(yearly_counts)"
      ],
      "metadata": {
        "colab": {
          "base_uri": "https://localhost:8080/"
        },
        "id": "iCg_yIqZGbmo",
        "outputId": "374429fb-b4a7-4f2c-b9b7-3bdc45708f0a"
      },
      "execution_count": 16,
      "outputs": [
        {
          "output_type": "stream",
          "name": "stdout",
          "text": [
            "Purchases per year:\n",
            "year\n",
            "2014    18277\n",
            "2015    20488\n",
            "Name: count, dtype: int64\n"
          ]
        }
      ]
    },
    {
      "cell_type": "code",
      "source": [
        "day_names = {0: 'Sunday', 1: 'Monday', 2: 'Tuesday', 3: 'Wednesday',\n",
        "             4: 'Thursday', 5: 'Friday', 6: 'Saturday'}\n",
        "df['day_name'] = df['day_of_week'].map(day_names)"
      ],
      "metadata": {
        "id": "Dr94WHvSGdXX"
      },
      "execution_count": 17,
      "outputs": []
    },
    {
      "cell_type": "code",
      "source": [
        "dow_counts = df['day_name'].value_counts()\n",
        "print(\"\\nPurchases per day of week:\")\n",
        "print(dow_counts)"
      ],
      "metadata": {
        "colab": {
          "base_uri": "https://localhost:8080/"
        },
        "id": "V1gc4Zr3GfNH",
        "outputId": "70aeae18-f32a-4654-c311-f7cb0df8c115"
      },
      "execution_count": 18,
      "outputs": [
        {
          "output_type": "stream",
          "name": "stdout",
          "text": [
            "\n",
            "Purchases per day of week:\n",
            "day_name\n",
            "Wednesday    5754\n",
            "Tuesday      5663\n",
            "Saturday     5624\n",
            "Monday       5524\n",
            "Thursday     5504\n",
            "Friday       5397\n",
            "Sunday       5299\n",
            "Name: count, dtype: int64\n"
          ]
        }
      ]
    },
    {
      "cell_type": "code",
      "source": [
        "fig, axes = plt.subplots(2, 2, figsize=(15, 10))"
      ],
      "metadata": {
        "colab": {
          "base_uri": "https://localhost:8080/",
          "height": 698
        },
        "id": "Ry895JqKGhGJ",
        "outputId": "3fbae1cb-66a1-49f3-e4e2-ccb78c64a2c2"
      },
      "execution_count": 19,
      "outputs": [
        {
          "output_type": "display_data",
          "data": {
            "text/plain": [
              "<Figure size 1500x1000 with 4 Axes>"
            ],
            "image/png": "[encoded data removed]"
          },
          "metadata": {}
        }
      ]
    },
    {
      "cell_type": "code",
      "source": [
        "yearly_counts.plot(kind='bar', ax=axes[0,0], color='lightcoral')\n",
        "axes[0,0].set_title('Purchases by Year')\n",
        "axes[0,0].set_ylabel('Number of Purchases')"
      ],
      "metadata": {
        "colab": {
          "base_uri": "https://localhost:8080/"
        },
        "id": "x5qOD0p_GlQV",
        "outputId": "7f25c5f6-2fd9-4dfd-929c-38fb74c3b9ee"
      },
      "execution_count": 20,
      "outputs": [
        {
          "output_type": "execute_result",
          "data": {
            "text/plain": [
              "Text(4.444444444444452, 0.5, 'Number of Purchases')"
            ]
          },
          "metadata": {},
          "execution_count": 20
        }
      ]
    },
    {
      "cell_type": "code",
      "source": [
        "dow_order = ['Monday', 'Tuesday', 'Wednesday', 'Thursday', 'Friday', 'Saturday', 'Sunday']\n",
        "dow_counts_ordered = dow_counts.reindex(dow_order)\n",
        "dow_counts_ordered.plot(kind='bar', ax=axes[0,1], color='lightgreen')\n",
        "axes[0,1].set_title('Purchases by Day of Week')\n",
        "axes[0,1].set_ylabel('Number of Purchases')\n",
        "axes[0,1].tick_params(axis='x', rotation=45)"
      ],
      "metadata": {
        "id": "v2zhkTgvGmUT"
      },
      "execution_count": 21,
      "outputs": []
    },
    {
      "cell_type": "code",
      "source": [
        "monthly_counts = df['month'].value_counts().sort_index()\n",
        "monthly_counts.plot(kind='bar', ax=axes[1,0], color='gold')\n",
        "axes[1,0].set_title('Purchases by Month')\n",
        "axes[1,0].set_ylabel('Number of Purchases')"
      ],
      "metadata": {
        "colab": {
          "base_uri": "https://localhost:8080/"
        },
        "id": "opPOVWhJGoGH",
        "outputId": "a4640cb6-275f-4b0d-85f3-3d0da0bc1b94"
      },
      "execution_count": 22,
      "outputs": [
        {
          "output_type": "execute_result",
          "data": {
            "text/plain": [
              "Text(4.444444444444452, 0.5, 'Number of Purchases')"
            ]
          },
          "metadata": {},
          "execution_count": 22
        }
      ]
    },
    {
      "cell_type": "code",
      "source": [
        "monthly_diversity = df.groupby('month')['itemDescription'].nunique()\n",
        "monthly_diversity.plot(kind='line', ax=axes[1,1], marker='o', color='purple')\n",
        "axes[1,1].set_title('Item Diversity by Month')\n",
        "axes[1,1].set_ylabel('Number of Unique Items')\n",
        "axes[1,1].set_xlabel('Month')"
      ],
      "metadata": {
        "colab": {
          "base_uri": "https://localhost:8080/"
        },
        "id": "1SSYO8B5Gpxb",
        "outputId": "cb439b22-d15c-4360-d98a-d228bf3087d3"
      },
      "execution_count": 23,
      "outputs": [
        {
          "output_type": "execute_result",
          "data": {
            "text/plain": [
              "Text(0.5, 4.4444444444444375, 'Month')"
            ]
          },
          "metadata": {},
          "execution_count": 23
        }
      ]
    },
    {
      "cell_type": "code",
      "source": [
        "plt.tight_layout()\n",
        "plt.show()"
      ],
      "metadata": {
        "colab": {
          "base_uri": "https://localhost:8080/",
          "height": 35
        },
        "id": "KfUoLFzeGreF",
        "outputId": "a868ddfb-e81e-4b61-c9ca-1c1a68ac5381"
      },
      "execution_count": 24,
      "outputs": [
        {
          "output_type": "display_data",
          "data": {
            "text/plain": [
              "<Figure size 800x550 with 0 Axes>"
            ]
          },
          "metadata": {}
        }
      ]
    },
    {
      "cell_type": "markdown",
      "source": [
        "# STEP 4: CREATE MARKET BASKET FORMAT"
      ],
      "metadata": {
        "id": "Ha6M5F1ZGt5e"
      }
    },
    {
      "cell_type": "code",
      "source": [
        "print(\"\\n🛒 CREATING MARKET BASKET FORMAT\")\n",
        "print(\"=\" * 35)"
      ],
      "metadata": {
        "colab": {
          "base_uri": "https://localhost:8080/"
        },
        "id": "LGuy2ErIGw8h",
        "outputId": "519bf2ac-3b46-4670-ea4e-a7a924f01945"
      },
      "execution_count": 25,
      "outputs": [
        {
          "output_type": "stream",
          "name": "stdout",
          "text": [
            "\n",
            "🛒 CREATING MARKET BASKET FORMAT\n",
            "===================================\n"
          ]
        }
      ]
    },
    {
      "cell_type": "code",
      "source": [
        "df['Transaction_ID'] = df['Member_number'].astype(str) + '_' + df['Date'].dt.strftime('%Y-%m-%d')\n",
        "\n",
        "print(f\"Total unique transactions: {df['Transaction_ID'].nunique()}\")\n",
        "print(f\"Total individual item purchases: {len(df)}\")"
      ],
      "metadata": {
        "colab": {
          "base_uri": "https://localhost:8080/"
        },
        "id": "ph9CQE2pGyBz",
        "outputId": "9759cd73-faf1-48d5-da27-dd0e373ac6e8"
      },
      "execution_count": 26,
      "outputs": [
        {
          "output_type": "stream",
          "name": "stdout",
          "text": [
            "Total unique transactions: 14963\n",
            "Total individual item purchases: 38765\n"
          ]
        }
      ]
    },
    {
      "cell_type": "code",
      "source": [
        "basket_data = df.groupby('Transaction_ID')['itemDescription'].apply(list).reset_index()\n",
        "basket_data.columns = ['Transaction_ID', 'Items']"
      ],
      "metadata": {
        "id": "pMQ1Qsg2G01f"
      },
      "execution_count": 27,
      "outputs": []
    },
    {
      "cell_type": "code",
      "source": [
        "print(\"\\nSample basket data:\")\n",
        "for i in range(3):\n",
        "    trans_id = basket_data.iloc[i]['Transaction_ID']\n",
        "    items = basket_data.iloc[i]['Items']\n",
        "    print(f\"Transaction {trans_id}: {items}\")"
      ],
      "metadata": {
        "colab": {
          "base_uri": "https://localhost:8080/"
        },
        "id": "OK36JGkcG20m",
        "outputId": "4f5012bd-e12d-46d2-e2fa-f62add17cc5d"
      },
      "execution_count": 28,
      "outputs": [
        {
          "output_type": "stream",
          "name": "stdout",
          "text": [
            "\n",
            "Sample basket data:\n",
            "Transaction 1000_2014-06-24: ['whole milk', 'pastry', 'salty snack']\n",
            "Transaction 1000_2015-03-15: ['sausage', 'whole milk', 'semi-finished bread', 'yogurt']\n",
            "Transaction 1000_2015-05-27: ['soda', 'pickled vegetables']\n"
          ]
        }
      ]
    },
    {
      "cell_type": "code",
      "source": [
        "transaction_sizes = basket_data['Items'].apply(len)\n",
        "print(f\"\\n📊 TRANSACTION SIZE ANALYSIS\")\n",
        "print(f\"Mean items per transaction: {transaction_sizes.mean():.2f}\")\n",
        "print(f\"Median items per transaction: {transaction_sizes.median():.2f}\")\n",
        "print(f\"Max items in single transaction: {transaction_sizes.max()}\")\n",
        "print(f\"Min items in single transaction: {transaction_sizes.min()}\")"
      ],
      "metadata": {
        "colab": {
          "base_uri": "https://localhost:8080/"
        },
        "id": "450OJXpDG4pv",
        "outputId": "600af406-7647-4bcc-a6e6-df92b5bb0d57"
      },
      "execution_count": 29,
      "outputs": [
        {
          "output_type": "stream",
          "name": "stdout",
          "text": [
            "\n",
            "📊 TRANSACTION SIZE ANALYSIS\n",
            "Mean items per transaction: 2.59\n",
            "Median items per transaction: 2.00\n",
            "Max items in single transaction: 11\n",
            "Min items in single transaction: 2\n"
          ]
        }
      ]
    },
    {
      "cell_type": "code",
      "source": [
        "size_distribution = transaction_sizes.value_counts().sort_index()\n",
        "print(\"\\nTransaction size distribution:\")\n",
        "print(size_distribution.head(10))"
      ],
      "metadata": {
        "colab": {
          "base_uri": "https://localhost:8080/"
        },
        "id": "JKcGcIsZG9O_",
        "outputId": "f1007ab4-a019-4435-d22b-3b1fa82bed52"
      },
      "execution_count": 30,
      "outputs": [
        {
          "output_type": "stream",
          "name": "stdout",
          "text": [
            "\n",
            "Transaction size distribution:\n",
            "Items\n",
            "2     10080\n",
            "3      2698\n",
            "4      1390\n",
            "5       344\n",
            "6       175\n",
            "7        80\n",
            "8       145\n",
            "9        50\n",
            "11        1\n",
            "Name: count, dtype: int64\n"
          ]
        }
      ]
    },
    {
      "cell_type": "code",
      "source": [
        "plt.figure(figsize=(12, 6))\n",
        "plt.hist(transaction_sizes, bins=range(1, min(transaction_sizes.max()+2, 21)),\n",
        "         alpha=0.7, edgecolor='black', color='steelblue')\n",
        "plt.title('Distribution of Transaction Sizes', fontsize=16, fontweight='bold')\n",
        "plt.xlabel('Number of Items per Transaction')\n",
        "plt.ylabel('Frequency')\n",
        "plt.grid(True, alpha=0.3)"
      ],
      "metadata": {
        "colab": {
          "base_uri": "https://localhost:8080/",
          "height": 565
        },
        "id": "cg0af5xfG-Tw",
        "outputId": "63a480d2-1da7-4c60-abc7-5528ffac8336"
      },
      "execution_count": 31,
      "outputs": [
        {
          "output_type": "display_data",
          "data": {
            "text/plain": [
              "<Figure size 1200x600 with 1 Axes>"
            ],
            "image/png": "[encoded data removed]"
          },
          "metadata": {}
        }
      ]
    },
    {
      "cell_type": "code",
      "source": [
        "plt.axvline(transaction_sizes.mean(), color='red', linestyle='--',\n",
        "           label=f'Mean: {transaction_sizes.mean():.2f}')\n",
        "plt.axvline(transaction_sizes.median(), color='orange', linestyle='--',\n",
        "           label=f'Median: {transaction_sizes.median():.2f}')\n",
        "plt.legend()\n",
        "plt.tight_layout()\n",
        "plt.show()"
      ],
      "metadata": {
        "colab": {
          "base_uri": "https://localhost:8080/",
          "height": 557
        },
        "id": "T0o597kSHA8C",
        "outputId": "8057cc7c-89c7-4387-820f-63b51ac9dbe7"
      },
      "execution_count": 32,
      "outputs": [
        {
          "output_type": "display_data",
          "data": {
            "text/plain": [
              "<Figure size 800x550 with 1 Axes>"
            ],
            "image/png": "[encoded data removed]"
          },
          "metadata": {}
        }
      ]
    },
    {
      "cell_type": "markdown",
      "source": [
        "# STEP 5: PREPARE DATA FOR APRIORI"
      ],
      "metadata": {
        "id": "kl0WcKaVHFOe"
      }
    },
    {
      "cell_type": "code",
      "source": [
        "print(\"\\n⚙️ PREPARING DATA FOR APRIORI\")\n",
        "print(\"=\" * 32)"
      ],
      "metadata": {
        "colab": {
          "base_uri": "https://localhost:8080/"
        },
        "id": "Sfhg1JNcHC85",
        "outputId": "680d7999-0d36-471a-9a9b-0e968bea001f"
      },
      "execution_count": 33,
      "outputs": [
        {
          "output_type": "stream",
          "name": "stdout",
          "text": [
            "\n",
            "⚙️ PREPARING DATA FOR APRIORI\n",
            "================================\n"
          ]
        }
      ]
    },
    {
      "cell_type": "code",
      "source": [
        "transactions = basket_data['Items'].tolist()"
      ],
      "metadata": {
        "id": "aXmjIOahHHMP"
      },
      "execution_count": 34,
      "outputs": []
    },
    {
      "cell_type": "code",
      "source": [
        "print(f\"Total transactions: {len(transactions)}\")\n",
        "print(\"Sample transactions:\")\n",
        "for i, trans in enumerate(transactions[:5]):\n",
        "    print(f\"Transaction {i+1}: {trans}\")"
      ],
      "metadata": {
        "colab": {
          "base_uri": "https://localhost:8080/"
        },
        "id": "-n-8MLs9HJS4",
        "outputId": "468ed494-8bad-43cd-9ec7-5300d1a3be3a"
      },
      "execution_count": 35,
      "outputs": [
        {
          "output_type": "stream",
          "name": "stdout",
          "text": [
            "Total transactions: 14963\n",
            "Sample transactions:\n",
            "Transaction 1: ['whole milk', 'pastry', 'salty snack']\n",
            "Transaction 2: ['sausage', 'whole milk', 'semi-finished bread', 'yogurt']\n",
            "Transaction 3: ['soda', 'pickled vegetables']\n",
            "Transaction 4: ['canned beer', 'misc. beverages']\n",
            "Transaction 5: ['sausage', 'hygiene articles']\n"
          ]
        }
      ]
    },
    {
      "cell_type": "code",
      "source": [
        "te = TransactionEncoder()\n",
        "te_array = te.fit(transactions).transform(transactions)"
      ],
      "metadata": {
        "id": "mrtsxKcAHLet"
      },
      "execution_count": 36,
      "outputs": []
    },
    {
      "cell_type": "code",
      "source": [
        "df_encoded = pd.DataFrame(te_array, columns=te.columns_)"
      ],
      "metadata": {
        "id": "lX4rJpf5HM9f"
      },
      "execution_count": 37,
      "outputs": []
    },
    {
      "cell_type": "code",
      "source": [
        "print(f\"\\nBinary matrix shape: {df_encoded.shape}\")\n",
        "print(f\"Number of unique items: {len(te.columns_)}\")\n",
        "print(\"\\nSample of binary matrix:\")\n",
        "print(df_encoded.head())"
      ],
      "metadata": {
        "colab": {
          "base_uri": "https://localhost:8080/"
        },
        "id": "TW_YRjOZHOQU",
        "outputId": "48c186b4-850a-4728-8d30-e31d4c0b119c"
      },
      "execution_count": 38,
      "outputs": [
        {
          "output_type": "stream",
          "name": "stdout",
          "text": [
            "\n",
            "Binary matrix shape: (14963, 167)\n",
            "Number of unique items: 167\n",
            "\n",
            "Sample of binary matrix:\n",
            "   Instant food products  UHT-milk  abrasive cleaner  artif. sweetener  baby cosmetics   bags  baking powder  bathroom cleaner   beef  berries  beverages  bottled beer  bottled water  brandy  brown bread  butter  butter milk  cake bar  candles  candy  canned beer  canned fish  canned fruit  canned vegetables  cat food  cereals  chewing gum  chicken  chocolate  chocolate marshmallow  citrus fruit  cleaner  cling film/bags  cocoa drinks  coffee  condensed milk  cooking chocolate  cookware  cream  cream cheese    curd  curd cheese  decalcifier  dental care  dessert  detergent  dish cleaner  dishes  dog food  domestic eggs  female sanitary products  finished products   fish  flour  flower (seeds)  flower soil/fertilizer  frankfurter  frozen chicken  frozen dessert  frozen fish  frozen fruits  frozen meals  frozen potato products  frozen vegetables  fruit/vegetable juice  grapes  hair spray    ham  hamburger meat  hard cheese  herbs  honey  house keeping products  hygiene articles  \\\n",
            "0                  False     False             False             False           False  False          False             False  False    False      False         False          False   False        False   False        False     False    False  False        False        False         False              False     False    False        False    False      False                  False         False    False            False         False   False           False              False     False  False          False  False        False        False        False    False      False         False   False     False          False                     False              False  False  False           False                   False        False           False           False        False          False         False                   False              False                  False   False       False  False           False        False  False  False                   False             False   \n",
            "1                  False     False             False             False           False  False          False             False  False    False      False         False          False   False        False   False        False     False    False  False        False        False         False              False     False    False        False    False      False                  False         False    False            False         False   False           False              False     False  False          False  False        False        False        False    False      False         False   False     False          False                     False              False  False  False           False                   False        False           False           False        False          False         False                   False              False                  False   False       False  False           False        False  False  False                   False             False   \n",
            "2                  False     False             False             False           False  False          False             False  False    False      False         False          False   False        False   False        False     False    False  False        False        False         False              False     False    False        False    False      False                  False         False    False            False         False   False           False              False     False  False          False  False        False        False        False    False      False         False   False     False          False                     False              False  False  False           False                   False        False           False           False        False          False         False                   False              False                  False   False       False  False           False        False  False  False                   False             False   \n",
            "3                  False     False             False             False           False  False          False             False  False    False      False         False          False   False        False   False        False     False    False  False         True        False         False              False     False    False        False    False      False                  False         False    False            False         False   False           False              False     False  False          False  False        False        False        False    False      False         False   False     False          False                     False              False  False  False           False                   False        False           False           False        False          False         False                   False              False                  False   False       False  False           False        False  False  False                   False             False   \n",
            "4                  False     False             False             False           False  False          False             False  False    False      False         False          False   False        False   False        False     False    False  False        False        False         False              False     False    False        False    False      False                  False         False    False            False         False   False           False              False     False  False          False  False        False        False        False    False      False         False   False     False          False                     False              False  False  False           False                   False        False           False           False        False          False         False                   False              False                  False   False       False  False           False        False  False  False                   False              True   \n",
            "\n",
            "   ice cream  instant coffee    jam  ketchup  kitchen towels  kitchen utensil  light bulbs  liqueur  liquor  liquor (appetizer)  liver loaf  long life bakery product  make up remover  male cosmetics  margarine  mayonnaise   meat  meat spreads  misc. beverages  mustard  napkins  newspapers  nut snack  nuts/prunes    oil  onions  organic products  organic sausage  other vegetables  packaged fruit/vegetables  pasta  pastry  pet care  photo/film  pickled vegetables  pip fruit  popcorn   pork  pot plants  potato products  preservation products  processed cheese  prosecco  pudding powder  ready soups  red/blush wine   rice  roll products   rolls/buns  root vegetables  rubbing alcohol    rum  salad dressing   salt  salty snack  sauces  sausage  seasonal products  semi-finished bread  shopping bags  skin care  sliced cheese  snack products   soap   soda  soft cheese  softener  soups  sparkling wine  specialty bar  specialty cheese  specialty chocolate  specialty fat  specialty vegetables  \\\n",
            "0      False           False  False    False           False            False        False    False   False               False       False                     False            False           False      False       False  False         False            False    False    False       False      False        False  False   False             False            False             False                      False  False    True     False       False               False      False    False  False       False            False                  False             False     False           False        False           False  False           False       False            False            False  False           False  False         True   False    False              False                False          False      False          False           False  False  False        False     False  False           False          False             False                False          False                 False   \n",
            "1      False           False  False    False           False            False        False    False   False               False       False                     False            False           False      False       False  False         False            False    False    False       False      False        False  False   False             False            False             False                      False  False   False     False       False               False      False    False  False       False            False                  False             False     False           False        False           False  False           False       False            False            False  False           False  False        False   False     True              False                 True          False      False          False           False  False  False        False     False  False           False          False             False                False          False                 False   \n",
            "2      False           False  False    False           False            False        False    False   False               False       False                     False            False           False      False       False  False         False            False    False    False       False      False        False  False   False             False            False             False                      False  False   False     False       False                True      False    False  False       False            False                  False             False     False           False        False           False  False           False       False            False            False  False           False  False        False   False    False              False                False          False      False          False           False  False   True        False     False  False           False          False             False                False          False                 False   \n",
            "3      False           False  False    False           False            False        False    False   False               False       False                     False            False           False      False       False  False         False             True    False    False       False      False        False  False   False             False            False             False                      False  False   False     False       False               False      False    False  False       False            False                  False             False     False           False        False           False  False           False       False            False            False  False           False  False        False   False    False              False                False          False      False          False           False  False  False        False     False  False           False          False             False                False          False                 False   \n",
            "4      False           False  False    False           False            False        False    False   False               False       False                     False            False           False      False       False  False         False            False    False    False       False      False        False  False   False             False            False             False                      False  False   False     False       False               False      False    False  False       False            False                  False             False     False           False        False           False  False           False       False            False            False  False           False  False        False   False     True              False                False          False      False          False           False  False  False        False     False  False           False          False             False                False          False                 False   \n",
            "\n",
            "   spices  spread cheese  sugar  sweet spreads  syrup    tea  tidbits  toilet cleaner  tropical fruit  turkey  vinegar  waffles  whipped/sour cream  whisky  white bread  white wine  whole milk  yogurt  zwieback  \n",
            "0   False          False  False          False  False  False    False           False           False   False    False    False               False   False        False       False        True   False     False  \n",
            "1   False          False  False          False  False  False    False           False           False   False    False    False               False   False        False       False        True    True     False  \n",
            "2   False          False  False          False  False  False    False           False           False   False    False    False               False   False        False       False       False   False     False  \n",
            "3   False          False  False          False  False  False    False           False           False   False    False    False               False   False        False       False       False   False     False  \n",
            "4   False          False  False          False  False  False    False           False           False   False    False    False               False   False        False       False       False   False     False  \n"
          ]
        }
      ]
    },
    {
      "cell_type": "code",
      "source": [
        "sparsity = (df_encoded == 0).sum().sum() / (df_encoded.shape[0] * df_encoded.shape[1])\n",
        "print(f\"\\nMatrix sparsity: {sparsity:.2%}\")\n",
        "print(\"(Sparsity tinggi = banyak kombinasi item yang jarang dibeli bersamaan)\")"
      ],
      "metadata": {
        "colab": {
          "base_uri": "https://localhost:8080/"
        },
        "id": "3SLi0rJAHQMk",
        "outputId": "ad7651ba-096a-4110-ac1f-7599c51fd96f"
      },
      "execution_count": 39,
      "outputs": [
        {
          "output_type": "stream",
          "name": "stdout",
          "text": [
            "\n",
            "Matrix sparsity: 98.48%\n",
            "(Sparsity tinggi = banyak kombinasi item yang jarang dibeli bersamaan)\n"
          ]
        }
      ]
    },
    {
      "cell_type": "code",
      "source": [
        "item_support = df_encoded.mean().sort_values(ascending=False)\n",
        "print(f\"\\nTop 10 items by support:\")\n",
        "print(item_support.head(10))"
      ],
      "metadata": {
        "colab": {
          "base_uri": "https://localhost:8080/"
        },
        "id": "cZvgNBS4HUFz",
        "outputId": "36f268fc-bc34-4738-ebe2-c86e283d74b4"
      },
      "execution_count": 40,
      "outputs": [
        {
          "output_type": "stream",
          "name": "stdout",
          "text": [
            "\n",
            "Top 10 items by support:\n",
            "whole milk          0.157923\n",
            "other vegetables    0.122101\n",
            "rolls/buns          0.110005\n",
            "soda                0.097106\n",
            "yogurt              0.085879\n",
            "root vegetables     0.069572\n",
            "tropical fruit      0.067767\n",
            "bottled water       0.060683\n",
            "sausage             0.060349\n",
            "citrus fruit        0.053131\n",
            "dtype: float64\n"
          ]
        }
      ]
    },
    {
      "cell_type": "code",
      "source": [
        "print(f\"\\nLowest support among top 50 items: {item_support.head(50).min():.4f}\")\n",
        "print(\"This can help us decide minimum support threshold\")"
      ],
      "metadata": {
        "colab": {
          "base_uri": "https://localhost:8080/"
        },
        "id": "ziR-QPT7HWB8",
        "outputId": "6ef8eb6c-3ede-477f-96a0-62869c9ec13c"
      },
      "execution_count": 41,
      "outputs": [
        {
          "output_type": "stream",
          "name": "stdout",
          "text": [
            "\n",
            "Lowest support among top 50 items: 0.0152\n",
            "This can help us decide minimum support threshold\n"
          ]
        }
      ]
    },
    {
      "cell_type": "code",
      "source": [
        "print(\"\\n🔥 RUNNING APRIORI ALGORITHM\")\n",
        "print(\"=\" * 30)"
      ],
      "metadata": {
        "colab": {
          "base_uri": "https://localhost:8080/"
        },
        "id": "nPIaOp9THYA1",
        "outputId": "ff8f004b-aeda-4d4d-ed3a-9fd2f66982f0"
      },
      "execution_count": 42,
      "outputs": [
        {
          "output_type": "stream",
          "name": "stdout",
          "text": [
            "\n",
            "🔥 RUNNING APRIORI ALGORITHM\n",
            "==============================\n"
          ]
        }
      ]
    },
    {
      "cell_type": "code",
      "source": [
        "min_support = 0.01"
      ],
      "metadata": {
        "id": "0UU9LsgJHa5u"
      },
      "execution_count": 43,
      "outputs": []
    },
    {
      "cell_type": "code",
      "source": [
        "print(f\"Minimum support threshold: {min_support} ({min_support*100}%)\")\n",
        "print(f\"This means itemsets must appear in at least {int(min_support * len(transactions))} transactions\")"
      ],
      "metadata": {
        "colab": {
          "base_uri": "https://localhost:8080/"
        },
        "id": "dvK9uvDfHdB7",
        "outputId": "647dfdf0-89cd-4d67-9d76-c00f69c94131"
      },
      "execution_count": 44,
      "outputs": [
        {
          "output_type": "stream",
          "name": "stdout",
          "text": [
            "Minimum support threshold: 0.01 (1.0%)\n",
            "This means itemsets must appear in at least 149 transactions\n"
          ]
        }
      ]
    },
    {
      "cell_type": "code",
      "source": [
        "print(\"\\nRunning Apriori algorithm...\")\n",
        "frequent_itemsets = apriori(df_encoded, min_support=min_support, use_colnames=True, verbose=1)"
      ],
      "metadata": {
        "colab": {
          "base_uri": "https://localhost:8080/"
        },
        "id": "pVMKRp2XHjmd",
        "outputId": "020f6102-6d7c-46e7-d178-24d92c924f16"
      },
      "execution_count": 45,
      "outputs": [
        {
          "output_type": "stream",
          "name": "stdout",
          "text": [
            "\n",
            "Running Apriori algorithm...\n",
            "Processing 18 combinations | Sampling itemset size 3\n"
          ]
        }
      ]
    },
    {
      "cell_type": "code",
      "source": [
        "print(f\"\\nFound {len(frequent_itemsets)} frequent itemsets\")\n",
        "print(\"\\nTop 10 frequent itemsets by support:\")\n",
        "print(frequent_itemsets.sort_values('support', ascending=False).head(10))"
      ],
      "metadata": {
        "colab": {
          "base_uri": "https://localhost:8080/"
        },
        "id": "nC3Uv6mGHlO-",
        "outputId": "4adb5673-8802-4c2f-ab72-3e68c6268510"
      },
      "execution_count": 46,
      "outputs": [
        {
          "output_type": "stream",
          "name": "stdout",
          "text": [
            "\n",
            "Found 69 frequent itemsets\n",
            "\n",
            "Top 10 frequent itemsets by support:\n",
            "     support            itemsets\n",
            "62  0.157923        (whole milk)\n",
            "40  0.122101  (other vegetables)\n",
            "46  0.110005        (rolls/buns)\n",
            "52  0.097106              (soda)\n",
            "63  0.085879            (yogurt)\n",
            "47  0.069572   (root vegetables)\n",
            "57  0.067767    (tropical fruit)\n",
            "5   0.060683     (bottled water)\n",
            "49  0.060349           (sausage)\n",
            "15  0.053131      (citrus fruit)\n"
          ]
        }
      ]
    },
    {
      "cell_type": "code",
      "source": [
        "frequent_itemsets['length'] = frequent_itemsets['itemsets'].apply(lambda x: len(x))\n",
        "itemset_lengths = frequent_itemsets['length'].value_counts().sort_index()"
      ],
      "metadata": {
        "id": "EttAGMc4HoHk"
      },
      "execution_count": 47,
      "outputs": []
    },
    {
      "cell_type": "code",
      "source": [
        "print(\"\\nFrequent itemsets by length:\")\n",
        "print(itemset_lengths)"
      ],
      "metadata": {
        "colab": {
          "base_uri": "https://localhost:8080/"
        },
        "id": "P2FEZCkPHpzY",
        "outputId": "fe915332-8e5b-4fae-c05b-60182064eb57"
      },
      "execution_count": 48,
      "outputs": [
        {
          "output_type": "stream",
          "name": "stdout",
          "text": [
            "\n",
            "Frequent itemsets by length:\n",
            "length\n",
            "1    64\n",
            "2     5\n",
            "Name: count, dtype: int64\n"
          ]
        }
      ]
    },
    {
      "cell_type": "code",
      "source": [
        "plt.figure(figsize=(10, 6))\n",
        "itemset_lengths.plot(kind='bar', color='lightblue', edgecolor='black')\n",
        "plt.title('Distribution of Frequent Itemset Lengths')\n",
        "plt.xlabel('Itemset Length')\n",
        "plt.ylabel('Number of Itemsets')\n",
        "plt.grid(True, alpha=0.3)\n",
        "plt.show()"
      ],
      "metadata": {
        "colab": {
          "base_uri": "https://localhost:8080/",
          "height": 556
        },
        "id": "CtYxi54oHrMM",
        "outputId": "a13de2a9-43ee-4f27-d5fd-2f6aa55f74d9"
      },
      "execution_count": 49,
      "outputs": [
        {
          "output_type": "display_data",
          "data": {
            "text/plain": [
              "<Figure size 1000x600 with 1 Axes>"
            ],
            "image/png": "[encoded data removed]"
          },
          "metadata": {}
        }
      ]
    },
    {
      "cell_type": "code",
      "source": [
        "print(\"\\n📋 GENERATING ASSOCIATION RULES\")\n",
        "print(\"=\" * 35)"
      ],
      "metadata": {
        "colab": {
          "base_uri": "https://localhost:8080/"
        },
        "id": "Lx-7rnJBHtX_",
        "outputId": "49af5a03-1a38-468d-8450-0f2aa22e1a74"
      },
      "execution_count": 50,
      "outputs": [
        {
          "output_type": "stream",
          "name": "stdout",
          "text": [
            "\n",
            "📋 GENERATING ASSOCIATION RULES\n",
            "===================================\n"
          ]
        }
      ]
    },
    {
      "cell_type": "code",
      "source": [
        "min_confidence = 0.3   # 30% confidence\n",
        "min_lift = 1.2         # 20% better than random"
      ],
      "metadata": {
        "id": "d8kSMO56HvBA"
      },
      "execution_count": 51,
      "outputs": []
    },
    {
      "cell_type": "code",
      "source": [
        "print(f\"Minimum confidence: {min_confidence} ({min_confidence*100}%)\")\n",
        "print(f\"Minimum lift: {min_lift}\")"
      ],
      "metadata": {
        "colab": {
          "base_uri": "https://localhost:8080/"
        },
        "id": "6SnmO4uOHxAS",
        "outputId": "886ad11d-aa07-4ae8-8b71-1acd6596fdc9"
      },
      "execution_count": 52,
      "outputs": [
        {
          "output_type": "stream",
          "name": "stdout",
          "text": [
            "Minimum confidence: 0.3 (30.0%)\n",
            "Minimum lift: 1.2\n"
          ]
        }
      ]
    },
    {
      "cell_type": "code",
      "source": [
        "rules = association_rules(frequent_itemsets, metric=\"confidence\",\n",
        "                         min_threshold=min_confidence, num_itemsets=len(frequent_itemsets))\n",
        "\n",
        "# Filter by lift\n",
        "rules = rules[rules['lift'] >= min_lift]"
      ],
      "metadata": {
        "id": "PHSiEYuXHymo"
      },
      "execution_count": 53,
      "outputs": []
    },
    {
      "cell_type": "code",
      "source": [
        "print(f\"\\nGenerated {len(rules)} association rules\")"
      ],
      "metadata": {
        "colab": {
          "base_uri": "https://localhost:8080/"
        },
        "id": "8JEYAXlNH13i",
        "outputId": "98acca12-fdb6-4837-bcf6-81b8b19ee993"
      },
      "execution_count": 54,
      "outputs": [
        {
          "output_type": "stream",
          "name": "stdout",
          "text": [
            "\n",
            "Generated 0 association rules\n"
          ]
        }
      ]
    },
    {
      "cell_type": "code",
      "source": [
        "if len(rules) > 0:\n",
        "    print(\"\\nTop 10 rules by confidence:\")\n",
        "    top_rules = rules.sort_values('confidence', ascending=False).head(10)\n",
        "\n",
        "    for idx, rule in top_rules.iterrows():\n",
        "        antecedent = ', '.join(list(rule['antecedents']))\n",
        "        consequent = ', '.join(list(rule['consequents']))\n",
        "        print(f\"If {antecedent} → then {consequent}\")\n",
        "        print(f\"  Support: {rule['support']:.3f}, Confidence: {rule['confidence']:.3f}, Lift: {rule['lift']:.3f}\\n\")\n",
        "else:\n",
        "    print(\"No rules found with current thresholds. Consider lowering min_confidence or min_lift.\")"
      ],
      "metadata": {
        "colab": {
          "base_uri": "https://localhost:8080/"
        },
        "id": "ohtO3eFvH3EW",
        "outputId": "04a8435c-16a7-492f-b2b5-b2edc182b9a3"
      },
      "execution_count": 55,
      "outputs": [
        {
          "output_type": "stream",
          "name": "stdout",
          "text": [
            "No rules found with current thresholds. Consider lowering min_confidence or min_lift.\n"
          ]
        }
      ]
    },
    {
      "cell_type": "code",
      "source": [
        "if len(rules) > 0:\n",
        "    print(\"📊 RULES ANALYSIS\")\n",
        "    print(\"=\" * 17)\n",
        "\n",
        "    print(f\"Rules statistics:\")\n",
        "    print(f\"Average confidence: {rules['confidence'].mean():.3f}\")\n",
        "    print(f\"Average lift: {rules['lift'].mean():.3f}\")\n",
        "    print(f\"Average support: {rules['support'].mean():.3f}\")\n",
        "\n",
        "    # Show distribution of metrics\n",
        "    fig, axes = plt.subplots(1, 3, figsize=(15, 5))\n",
        "\n",
        "    rules['confidence'].hist(bins=20, ax=axes[0], alpha=0.7, color='skyblue')\n",
        "    axes[0].set_title('Distribution of Confidence')\n",
        "    axes[0].set_xlabel('Confidence')\n",
        "\n",
        "    rules['lift'].hist(bins=20, ax=axes[1], alpha=0.7, color='lightgreen')\n",
        "    axes[1].set_title('Distribution of Lift')\n",
        "    axes[1].set_xlabel('Lift')\n",
        "\n",
        "    rules['support'].hist(bins=20, ax=axes[2], alpha=0.7, color='salmon')\n",
        "    axes[2].set_title('Distribution of Support')\n",
        "    axes[2].set_xlabel('Support')\n",
        "\n",
        "    plt.tight_layout()\n",
        "    plt.show()\n",
        "\n",
        "    # Top rules by different metrics\n",
        "    print(\"\\n🏆 TOP RULES BY DIFFERENT METRICS\")\n",
        "    print(\"=\" * 35)\n",
        "\n",
        "    print(\"Top 5 rules by CONFIDENCE:\")\n",
        "    top_conf = rules.sort_values('confidence', ascending=False).head(5)\n",
        "    for idx, rule in top_conf.iterrows():\n",
        "        antecedent = ', '.join(list(rule['antecedents']))\n",
        "        consequent = ', '.join(list(rule['consequents']))\n",
        "        print(f\"{antecedent} → {consequent} (Confidence: {rule['confidence']:.3f})\")\n",
        "\n",
        "    print(\"\\nTop 5 rules by LIFT:\")\n",
        "    top_lift = rules.sort_values('lift', ascending=False).head(5)\n",
        "    for idx, rule in top_lift.iterrows():\n",
        "        antecedent = ', '.join(list(rule['antecedents']))\n",
        "        consequent = ', '.join(list(rule['consequents']))\n",
        "        print(f\"{antecedent} → {consequent} (Lift: {rule['lift']:.3f})\")"
      ],
      "metadata": {
        "id": "Pi11rz3EH_pj"
      },
      "execution_count": 56,
      "outputs": []
    },
    {
      "cell_type": "code",
      "source": [],
      "metadata": {
        "id": "OgFO17bSIA8X"
      },
      "execution_count": null,
      "outputs": []
    }
  ]
}